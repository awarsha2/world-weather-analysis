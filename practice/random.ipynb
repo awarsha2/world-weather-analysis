{
 "cells": [
  {
   "cell_type": "code",
   "execution_count": 18,
   "id": "4c7ea8da",
   "metadata": {},
   "outputs": [],
   "source": [
    "#import\n",
    "#import random is unecessary as np has a random module builtin\n",
    "import numpy as np\n",
    "import timeit"
   ]
  },
  {
   "cell_type": "code",
   "execution_count": 13,
   "id": "43b1124d",
   "metadata": {},
   "outputs": [
    {
     "data": {
      "text/plain": [
       "0.6027324068710089"
      ]
     },
     "execution_count": 13,
     "metadata": {},
     "output_type": "execute_result"
    }
   ],
   "source": [
    "#random.-><tab>\n",
    "random.random()"
   ]
  },
  {
   "cell_type": "code",
   "execution_count": 12,
   "id": "7a2f1096",
   "metadata": {},
   "outputs": [
    {
     "data": {
      "text/plain": [
       "3"
      ]
     },
     "execution_count": 12,
     "metadata": {},
     "output_type": "execute_result"
    }
   ],
   "source": [
    "random.randint(-10,10)"
   ]
  },
  {
   "cell_type": "code",
   "execution_count": 10,
   "id": "82c46430",
   "metadata": {},
   "outputs": [
    {
     "data": {
      "text/plain": [
       "7"
      ]
     },
     "execution_count": 10,
     "metadata": {},
     "output_type": "execute_result"
    }
   ],
   "source": [
    "random.randrange(-9,9,2)"
   ]
  },
  {
   "cell_type": "code",
   "execution_count": 11,
   "id": "3b774306",
   "metadata": {},
   "outputs": [
    {
     "data": {
      "text/plain": [
       "7.840953224613955"
      ]
     },
     "execution_count": 11,
     "metadata": {},
     "output_type": "execute_result"
    }
   ],
   "source": [
    "random.uniform(-10,10)"
   ]
  },
  {
   "cell_type": "code",
   "execution_count": 17,
   "id": "92fee270",
   "metadata": {},
   "outputs": [
    {
     "data": {
      "text/plain": [
       "array([ -2.12758566, -54.38094391,  59.83814807,   3.8857182 ,\n",
       "        29.70374144,  79.95378162, -87.91134964,   2.17130793,\n",
       "       -76.45281161, -40.60248799,   2.40975476, -54.60087279,\n",
       "       -27.2017124 , -68.74363053, -42.83485092,  60.33213218,\n",
       "        21.80985464, -54.93988017,  11.40276836, -68.10741164,\n",
       "        23.25346959, -35.03721081, -26.96100161, -72.94326276,\n",
       "        57.94556339,   5.1776822 ,  12.97533506,   9.80627359,\n",
       "         9.95144096, -86.35599129, -42.6848323 ,  77.41407677,\n",
       "        16.88906467,  76.16971897,  82.34660653,  89.54855199,\n",
       "       -58.45632781, -12.18717112, -84.41486574,  66.28125699,\n",
       "       -35.00747517,  -3.27002044,  31.04244109,  48.33619386,\n",
       "       -21.86135776,  67.89390599, -20.94767356,  19.93610642,\n",
       "         1.90139971,  88.92064699])"
      ]
     },
     "execution_count": 17,
     "metadata": {},
     "output_type": "execute_result"
    }
   ],
   "source": [
    "#generate latitudes\n",
    "#the following also works:\n",
    "#np.random.uniform(low=-90, high=90, size=50) \n",
    "np.random.uniform(-90.000, 90.000, size=50)"
   ]
  },
  {
   "cell_type": "code",
   "execution_count": 19,
   "id": "2467a766",
   "metadata": {},
   "outputs": [
    {
     "name": "stdout",
     "output_type": "stream",
     "text": [
      "24.4 µs ± 1.66 µs per loop (mean ± std. dev. of 7 runs, 10,000 loops each)\n"
     ]
    }
   ],
   "source": [
    "#time the loop of 1500\n",
    "%timeit np.random.uniform(-90.000, 90.000, size=1500)"
   ]
  },
  {
   "cell_type": "code",
   "execution_count": 20,
   "id": "35ffe3fb",
   "metadata": {},
   "outputs": [
    {
     "name": "stdout",
     "output_type": "stream",
     "text": [
      "2.45 ms ± 168 µs per loop (mean ± std. dev. of 7 runs, 100 loops each)\n"
     ]
    }
   ],
   "source": [
    "def latitudes(size):\n",
    "    latitudes = []\n",
    "    x = 0\n",
    "    while x < (size):\n",
    "        random_lat = random.randint(-90, 90) + random.random()\n",
    "        latitudes.append(random_lat)\n",
    "        x += 1\n",
    "    return latitudes\n",
    "# Call the function with 1500.\n",
    "%timeit latitudes(1500)"
   ]
  },
  {
   "cell_type": "code",
   "execution_count": 39,
   "id": "ad5ad0b4",
   "metadata": {},
   "outputs": [
    {
     "name": "stdout",
     "output_type": "stream",
     "text": [
      "2.15 ms ± 69.2 µs per loop (mean ± std. dev. of 7 runs, 100 loops each)\n"
     ]
    }
   ],
   "source": [
    "def latitudesFor(size):\n",
    "    latitudeList = []\n",
    "    for i in range(size):\n",
    "        latitudeList.append(random.randint(-90, 90) + random.random())\n",
    "    return latitudeList\n",
    "\n",
    "#call function\n",
    "%timeit latitudesFor(1500)"
   ]
  },
  {
   "cell_type": "code",
   "execution_count": null,
   "id": "9e904cce",
   "metadata": {},
   "outputs": [],
   "source": []
  }
 ],
 "metadata": {
  "kernelspec": {
   "display_name": "PythonData",
   "language": "python",
   "name": "pythondata"
  },
  "language_info": {
   "codemirror_mode": {
    "name": "ipython",
    "version": 3
   },
   "file_extension": ".py",
   "mimetype": "text/x-python",
   "name": "python",
   "nbconvert_exporter": "python",
   "pygments_lexer": "ipython3",
   "version": "3.9.12"
  }
 },
 "nbformat": 4,
 "nbformat_minor": 5
}
