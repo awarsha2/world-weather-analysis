{
 "cells": [
  {
   "cell_type": "markdown",
   "metadata": {},
   "source": [
    "# Deliverable 3. Create a Travel Itinerary Map.\n",
    "----\n",
    "1. Import the vacation CSV file. \n",
    "2. From the map above with pick 4 cities that are in close proximity (on the same continent) that the customer would travel to and create a directions layer map.\n",
    "3. For the \"travel_mode\" use either \"DRIVING\", \"BICYCLING\", or \"WALKING\".\n",
    "4. Take a screenshot of the route and save it. \n",
    "5. Then create a marker layer for the four cities. Each city will should have a pop-up marker that contains\n",
    "    - The hotel name\n",
    "    - The city\n",
    "    - The country\n",
    "    - The current weather description and the maximum temperature\n",
    "---"
   ]
  },
  {
   "cell_type": "markdown",
   "metadata": {},
   "source": [
    "## Make sure the initial dependencies and the Google API key are imported."
   ]
  },
  {
   "cell_type": "code",
   "execution_count": 1,
   "metadata": {},
   "outputs": [],
   "source": [
    "# Dependencies and Setup\n",
    "import pandas as pd\n",
    "import requests\n",
    "import gmaps\n",
    "\n",
    "# Import API key\n",
    "from config import g_key"
   ]
  },
  {
   "cell_type": "code",
   "execution_count": 2,
   "metadata": {},
   "outputs": [],
   "source": [
    "# Configure gmaps\n",
    "gmaps.configure(api_key=g_key)"
   ]
  },
  {
   "cell_type": "markdown",
   "metadata": {},
   "source": [
    "## From your `Vacation_Search` folder from Deliverable 2, import the `WeatherPy_vacation.csv` file as a DataFrame named `vacation_df`"
   ]
  },
  {
   "cell_type": "code",
   "execution_count": 5,
   "metadata": {},
   "outputs": [
    {
     "data": {
      "text/html": [
       "<div>\n",
       "<style scoped>\n",
       "    .dataframe tbody tr th:only-of-type {\n",
       "        vertical-align: middle;\n",
       "    }\n",
       "\n",
       "    .dataframe tbody tr th {\n",
       "        vertical-align: top;\n",
       "    }\n",
       "\n",
       "    .dataframe thead th {\n",
       "        text-align: right;\n",
       "    }\n",
       "</style>\n",
       "<table border=\"1\" class=\"dataframe\">\n",
       "  <thead>\n",
       "    <tr style=\"text-align: right;\">\n",
       "      <th></th>\n",
       "      <th>City_ID</th>\n",
       "      <th>City</th>\n",
       "      <th>Country</th>\n",
       "      <th>Max Temp</th>\n",
       "      <th>Current Description</th>\n",
       "      <th>Lat</th>\n",
       "      <th>Lng</th>\n",
       "      <th>Hotel Name</th>\n",
       "    </tr>\n",
       "  </thead>\n",
       "  <tbody>\n",
       "    <tr>\n",
       "      <th>288</th>\n",
       "      <td>635</td>\n",
       "      <td>Kabompo</td>\n",
       "      <td>ZM</td>\n",
       "      <td>62.33</td>\n",
       "      <td>clear sky</td>\n",
       "      <td>-13.5927</td>\n",
       "      <td>24.2008</td>\n",
       "      <td>Big Tree</td>\n",
       "    </tr>\n",
       "    <tr>\n",
       "      <th>289</th>\n",
       "      <td>637</td>\n",
       "      <td>Bilma</td>\n",
       "      <td>NE</td>\n",
       "      <td>68.02</td>\n",
       "      <td>few clouds</td>\n",
       "      <td>18.6853</td>\n",
       "      <td>12.9164</td>\n",
       "      <td>Expeditions Ténére voyages</td>\n",
       "    </tr>\n",
       "    <tr>\n",
       "      <th>290</th>\n",
       "      <td>638</td>\n",
       "      <td>Hit</td>\n",
       "      <td>IQ</td>\n",
       "      <td>62.26</td>\n",
       "      <td>clear sky</td>\n",
       "      <td>33.6416</td>\n",
       "      <td>42.8251</td>\n",
       "      <td>المعلق حسان رزاق</td>\n",
       "    </tr>\n",
       "    <tr>\n",
       "      <th>291</th>\n",
       "      <td>639</td>\n",
       "      <td>Karangasem</td>\n",
       "      <td>ID</td>\n",
       "      <td>77.04</td>\n",
       "      <td>moderate rain</td>\n",
       "      <td>-8.4500</td>\n",
       "      <td>115.6167</td>\n",
       "      <td>Villa Campuhan</td>\n",
       "    </tr>\n",
       "    <tr>\n",
       "      <th>292</th>\n",
       "      <td>641</td>\n",
       "      <td>Atar</td>\n",
       "      <td>MR</td>\n",
       "      <td>74.86</td>\n",
       "      <td>clear sky</td>\n",
       "      <td>20.5169</td>\n",
       "      <td>-13.0499</td>\n",
       "      <td>Oumou Elghoura</td>\n",
       "    </tr>\n",
       "    <tr>\n",
       "      <th>293</th>\n",
       "      <td>647</td>\n",
       "      <td>Tanout</td>\n",
       "      <td>NE</td>\n",
       "      <td>69.44</td>\n",
       "      <td>broken clouds</td>\n",
       "      <td>14.9709</td>\n",
       "      <td>8.8879</td>\n",
       "      <td>NaN</td>\n",
       "    </tr>\n",
       "    <tr>\n",
       "      <th>294</th>\n",
       "      <td>653</td>\n",
       "      <td>Tukrah</td>\n",
       "      <td>LY</td>\n",
       "      <td>66.81</td>\n",
       "      <td>clear sky</td>\n",
       "      <td>32.5341</td>\n",
       "      <td>20.5791</td>\n",
       "      <td>Lagrota restaurant</td>\n",
       "    </tr>\n",
       "    <tr>\n",
       "      <th>295</th>\n",
       "      <td>659</td>\n",
       "      <td>Luang Prabang</td>\n",
       "      <td>LA</td>\n",
       "      <td>68.34</td>\n",
       "      <td>scattered clouds</td>\n",
       "      <td>19.8856</td>\n",
       "      <td>102.1347</td>\n",
       "      <td>The Luang Say Residence</td>\n",
       "    </tr>\n",
       "    <tr>\n",
       "      <th>296</th>\n",
       "      <td>661</td>\n",
       "      <td>Punta Gorda</td>\n",
       "      <td>US</td>\n",
       "      <td>69.84</td>\n",
       "      <td>clear sky</td>\n",
       "      <td>26.9298</td>\n",
       "      <td>-82.0454</td>\n",
       "      <td>Four Points by Sheraton Punta Gorda Harborside</td>\n",
       "    </tr>\n",
       "    <tr>\n",
       "      <th>297</th>\n",
       "      <td>664</td>\n",
       "      <td>Codrington</td>\n",
       "      <td>AU</td>\n",
       "      <td>61.21</td>\n",
       "      <td>clear sky</td>\n",
       "      <td>-38.2667</td>\n",
       "      <td>141.9667</td>\n",
       "      <td>NaN</td>\n",
       "    </tr>\n",
       "  </tbody>\n",
       "</table>\n",
       "</div>"
      ],
      "text/plain": [
       "     City_ID           City Country  Max Temp Current Description      Lat  \\\n",
       "288      635        Kabompo      ZM     62.33           clear sky -13.5927   \n",
       "289      637          Bilma      NE     68.02          few clouds  18.6853   \n",
       "290      638            Hit      IQ     62.26           clear sky  33.6416   \n",
       "291      639     Karangasem      ID     77.04       moderate rain  -8.4500   \n",
       "292      641           Atar      MR     74.86           clear sky  20.5169   \n",
       "293      647         Tanout      NE     69.44       broken clouds  14.9709   \n",
       "294      653         Tukrah      LY     66.81           clear sky  32.5341   \n",
       "295      659  Luang Prabang      LA     68.34    scattered clouds  19.8856   \n",
       "296      661    Punta Gorda      US     69.84           clear sky  26.9298   \n",
       "297      664     Codrington      AU     61.21           clear sky -38.2667   \n",
       "\n",
       "          Lng                                      Hotel Name  \n",
       "288   24.2008                                        Big Tree  \n",
       "289   12.9164                      Expeditions Ténére voyages  \n",
       "290   42.8251                                المعلق حسان رزاق  \n",
       "291  115.6167                                  Villa Campuhan  \n",
       "292  -13.0499                                  Oumou Elghoura  \n",
       "293    8.8879                                             NaN  \n",
       "294   20.5791                              Lagrota restaurant  \n",
       "295  102.1347                         The Luang Say Residence  \n",
       "296  -82.0454  Four Points by Sheraton Punta Gorda Harborside  \n",
       "297  141.9667                                             NaN  "
      ]
     },
     "execution_count": 5,
     "metadata": {},
     "output_type": "execute_result"
    }
   ],
   "source": [
    "# Read the WeatherPy_vacation.csv into a DataFrame\n",
    "vacation_df = pd.read_csv(\"../Vacation_Search/WeatherPy_vacation.csv\")\n",
    "\n",
    "# Display sample data\n",
    "vacation_df.tail(10)"
   ]
  },
  {
   "cell_type": "markdown",
   "metadata": {},
   "source": [
    "**Note:** If the resulting DataFrame is empty, uncomment the following code to load sample data into the `clean_hotel_df`."
   ]
  },
  {
   "cell_type": "code",
   "execution_count": null,
   "metadata": {},
   "outputs": [],
   "source": [
    "# In case of an empty DataFrame, load the sample data provided\n",
    "# clean_hotel_df = pd.read_csv(\"WeatherPy_vacation-backup.csv\")\n",
    "# clean_hotel_df.head(10)"
   ]
  },
  {
   "cell_type": "markdown",
   "metadata": {
    "tags": []
   },
   "source": [
    "## In this step, you will set-up the pop-up markers. Review the code to create a marker layer map of the vacation search results. This code is the same as in Deliverable 2."
   ]
  },
  {
   "cell_type": "code",
   "execution_count": 6,
   "metadata": {},
   "outputs": [],
   "source": [
    "# Review the formatting template\n",
    "info_box_template = \"\"\"\n",
    "<dl>\n",
    "<dt>Hotel Name</dt><dd>{Hotel Name}</dd>\n",
    "<dt>City</dt><dd>{City}</dd>\n",
    "<dt>Country</dt><dd>{Country}</dd>\n",
    "<dt>Current Weather</dt><dd>{Current Description} and {Max Temp} °F</dd>\n",
    "</dl>\n",
    "\"\"\"\n",
    "\n",
    "# Get the data from each row and add it to the formatting template and store the data in a list\n",
    "hotel_info = [info_box_template.format(**row) for index, row in vacation_df.iterrows()]\n",
    "\n",
    "# Get the latitude and longitude from each row and store in a new DataFrame.\n",
    "locations = vacation_df[[\"Lat\", \"Lng\"]]"
   ]
  },
  {
   "cell_type": "code",
   "execution_count": 7,
   "metadata": {},
   "outputs": [
    {
     "data": {
      "application/vnd.jupyter.widget-view+json": {
       "model_id": "8746e61078f1415cab62de2a07bc85e7",
       "version_major": 2,
       "version_minor": 0
      },
      "text/plain": [
       "Figure(layout=FigureLayout(height='420px'))"
      ]
     },
     "metadata": {},
     "output_type": "display_data"
    }
   ],
   "source": [
    "# Add a marker layer for each city to the map.\n",
    "marker_layer = gmaps.marker_layer(locations, info_box_content=hotel_info)\n",
    "fig = gmaps.figure()\n",
    "fig.add_layer(marker_layer)\n",
    "\n",
    "# Display the figure\n",
    "fig"
   ]
  },
  {
   "cell_type": "markdown",
   "metadata": {},
   "source": [
    "## From the vacation search map, *choose four cities* that a customer might want to visit. They should be close together and in the same country."
   ]
  },
  {
   "cell_type": "code",
   "execution_count": 29,
   "metadata": {},
   "outputs": [],
   "source": [
    "# Create DataFrames for each city by filtering the 'vacation_df' using the loc method. \n",
    "# The starting and ending city should be the same city.\n",
    "vacation_start = vacation_df.loc[vacation_df['City']=='Laguna']\n",
    "vacation_end = vacation_df.loc[vacation_df['City']=='Laguna']\n",
    "vacation_stop1 = vacation_df.loc[vacation_df['City']=='Pacific Grove']\n",
    "vacation_stop2 = vacation_df.loc[vacation_df['City']=='La Palma']\n",
    "vacation_stop3 = vacation_df.loc[vacation_df['City']=='Barstow']"
   ]
  },
  {
   "cell_type": "markdown",
   "metadata": {},
   "source": [
    "## Use the `to_numpy()` function and list indexing to write code to retrieve the latitude-longitude pairs as tuples from each city DataFrame."
   ]
  },
  {
   "cell_type": "code",
   "execution_count": 32,
   "metadata": {},
   "outputs": [],
   "source": [
    "# Get the latitude-longitude pairs as tuples from each city DataFrame using the to_numpy function and list indexing.\n",
    "start = tuple(vacation_start.to_numpy()[0][5:7])\n",
    "end = tuple(vacation_end.to_numpy()[0][5:7])\n",
    "stop1 = tuple(vacation_stop1.to_numpy()[0][5:7])\n",
    "stop2 = tuple(vacation_stop2.to_numpy()[0][5:7])\n",
    "stop3 = tuple(vacation_stop3.to_numpy()[0][5:7])"
   ]
  },
  {
   "cell_type": "markdown",
   "metadata": {},
   "source": [
    "## Use the [gmaps documentation](https://jupyter-gmaps.readthedocs.io/en/latest/tutorial.html#directions-layer) to create a directions layer map using the variables from the previous step. Where the starting and ending city are the same city, the `waypoints` are the three other cities, and the `travel_mode` is either `\"DRIVING\"`, `\"BICYCLING\"`, or `\"WALKING\"`."
   ]
  },
  {
   "cell_type": "code",
   "execution_count": 33,
   "metadata": {
    "tags": []
   },
   "outputs": [
    {
     "data": {
      "application/vnd.jupyter.widget-view+json": {
       "model_id": "e72f6a613a4047288625902a1242463c",
       "version_major": 2,
       "version_minor": 0
      },
      "text/plain": [
       "Figure(layout=FigureLayout(height='420px'))"
      ]
     },
     "metadata": {},
     "output_type": "display_data"
    }
   ],
   "source": [
    "# Define a new figure object\n",
    "fig = gmaps.figure()\n",
    "\n",
    "# Create a direction layer map using the start and end latitude-longitude pairs, and stop1, stop2, and stop3 as the waypoints.\n",
    "# The travel_mode should be \"DRIVING\", \"BICYCLING\", or \"WALKING\".\n",
    "vacation_itinerary = gmaps.directions_layer(start, end, waypoints=[stop1, stop2, stop3])\n",
    "\n",
    "# Add the layer to the map\n",
    "fig.add_layer(vacation_itinerary)\n",
    "\n",
    "# Display the map\n",
    "fig"
   ]
  },
  {
   "cell_type": "markdown",
   "metadata": {},
   "source": [
    "## Use the provided `concat()` function code snippet to combine the four separate city DataFrames into one DataFrame."
   ]
  },
  {
   "cell_type": "code",
   "execution_count": 34,
   "metadata": {},
   "outputs": [
    {
     "data": {
      "text/html": [
       "<div>\n",
       "<style scoped>\n",
       "    .dataframe tbody tr th:only-of-type {\n",
       "        vertical-align: middle;\n",
       "    }\n",
       "\n",
       "    .dataframe tbody tr th {\n",
       "        vertical-align: top;\n",
       "    }\n",
       "\n",
       "    .dataframe thead th {\n",
       "        text-align: right;\n",
       "    }\n",
       "</style>\n",
       "<table border=\"1\" class=\"dataframe\">\n",
       "  <thead>\n",
       "    <tr style=\"text-align: right;\">\n",
       "      <th></th>\n",
       "      <th>City_ID</th>\n",
       "      <th>City</th>\n",
       "      <th>Country</th>\n",
       "      <th>Max Temp</th>\n",
       "      <th>Current Description</th>\n",
       "      <th>Lat</th>\n",
       "      <th>Lng</th>\n",
       "      <th>Hotel Name</th>\n",
       "    </tr>\n",
       "  </thead>\n",
       "  <tbody>\n",
       "    <tr>\n",
       "      <th>0</th>\n",
       "      <td>62</td>\n",
       "      <td>Laguna</td>\n",
       "      <td>US</td>\n",
       "      <td>66.49</td>\n",
       "      <td>clear sky</td>\n",
       "      <td>38.4210</td>\n",
       "      <td>-121.4238</td>\n",
       "      <td>Holiday Inn Express &amp; Suites Elk Grove Central...</td>\n",
       "    </tr>\n",
       "    <tr>\n",
       "      <th>1</th>\n",
       "      <td>278</td>\n",
       "      <td>Pacific Grove</td>\n",
       "      <td>US</td>\n",
       "      <td>64.89</td>\n",
       "      <td>clear sky</td>\n",
       "      <td>36.6177</td>\n",
       "      <td>-121.9166</td>\n",
       "      <td>Lovers Point Inn</td>\n",
       "    </tr>\n",
       "    <tr>\n",
       "      <th>2</th>\n",
       "      <td>464</td>\n",
       "      <td>La Palma</td>\n",
       "      <td>US</td>\n",
       "      <td>78.98</td>\n",
       "      <td>broken clouds</td>\n",
       "      <td>33.8464</td>\n",
       "      <td>-118.0467</td>\n",
       "      <td>La Quinta Inn &amp; Suites by Wyndham Buena Park</td>\n",
       "    </tr>\n",
       "    <tr>\n",
       "      <th>3</th>\n",
       "      <td>603</td>\n",
       "      <td>Barstow</td>\n",
       "      <td>US</td>\n",
       "      <td>62.17</td>\n",
       "      <td>clear sky</td>\n",
       "      <td>34.8986</td>\n",
       "      <td>-117.0228</td>\n",
       "      <td>Motel 6 Barstow, CA</td>\n",
       "    </tr>\n",
       "  </tbody>\n",
       "</table>\n",
       "</div>"
      ],
      "text/plain": [
       "   City_ID           City Country  Max Temp Current Description      Lat  \\\n",
       "0       62         Laguna      US     66.49           clear sky  38.4210   \n",
       "1      278  Pacific Grove      US     64.89           clear sky  36.6177   \n",
       "2      464       La Palma      US     78.98       broken clouds  33.8464   \n",
       "3      603        Barstow      US     62.17           clear sky  34.8986   \n",
       "\n",
       "        Lng                                         Hotel Name  \n",
       "0 -121.4238  Holiday Inn Express & Suites Elk Grove Central...  \n",
       "1 -121.9166                                   Lovers Point Inn  \n",
       "2 -118.0467       La Quinta Inn & Suites by Wyndham Buena Park  \n",
       "3 -117.0228                                Motel 6 Barstow, CA  "
      ]
     },
     "execution_count": 34,
     "metadata": {},
     "output_type": "execute_result"
    }
   ],
   "source": [
    "#  Combine the four city DataFrames into one DataFrame using the concat() function.\n",
    "itinerary_df = pd.concat(\n",
    "    [\n",
    "        vacation_start,\n",
    "        vacation_stop1,\n",
    "        vacation_stop2,\n",
    "        vacation_stop3\n",
    "    ],\n",
    "    ignore_index = True\n",
    ")\n",
    "\n",
    "# Display sample data\n",
    "itinerary_df"
   ]
  },
  {
   "cell_type": "markdown",
   "metadata": {},
   "source": [
    "## Refactor the code from Step 6 to create a new marker layer map of the cities on the travel route."
   ]
  },
  {
   "cell_type": "code",
   "execution_count": 35,
   "metadata": {},
   "outputs": [],
   "source": [
    "# Review the formatting template\n",
    "info_box_template = \"\"\"\n",
    "<dl>\n",
    "<dt>Hotel Name</dt><dd>{Hotel Name}</dd>\n",
    "<dt>City</dt><dd>{City}</dd>\n",
    "<dt>Country</dt><dd>{Country}</dd>\n",
    "<dt>Current Weather</dt><dd>{Current Description} and {Max Temp} °F</dd>\n",
    "</dl>\n",
    "\"\"\"\n",
    "\n",
    "# Get the data from each row and add it to the formatting template and store the data in a list\n",
    "hotel_info = [info_box_template.format(**row) for index, row in itinerary_df.iterrows()]\n",
    "\n",
    "# Get the latitude and longitude from each row and store in a new DataFrame.\n",
    "locations = itinerary_df[[\"Lat\", \"Lng\"]]"
   ]
  },
  {
   "cell_type": "code",
   "execution_count": 36,
   "metadata": {},
   "outputs": [
    {
     "data": {
      "application/vnd.jupyter.widget-view+json": {
       "model_id": "3cfd7d424ebb440e91be3eafb5e40c8b",
       "version_major": 2,
       "version_minor": 0
      },
      "text/plain": [
       "Figure(layout=FigureLayout(height='420px'))"
      ]
     },
     "metadata": {},
     "output_type": "display_data"
    }
   ],
   "source": [
    "# Add a marker layer for each city to the map.\n",
    "marker_layer = gmaps.marker_layer(locations, info_box_content=hotel_info)\n",
    "\n",
    "# Define a new figure object\n",
    "fig = gmaps.figure()\n",
    "\n",
    "# Add the layer to the map\n",
    "fig.add_layer(marker_layer)\n",
    "\n",
    "# Display the map\n",
    "fig"
   ]
  },
  {
   "cell_type": "code",
   "execution_count": null,
   "metadata": {},
   "outputs": [],
   "source": []
  }
 ],
 "metadata": {
  "kernelspec": {
   "display_name": "Python 3 (ipykernel)",
   "language": "python",
   "name": "python3"
  },
  "language_info": {
   "codemirror_mode": {
    "name": "ipython",
    "version": 3
   },
   "file_extension": ".py",
   "mimetype": "text/x-python",
   "name": "python",
   "nbconvert_exporter": "python",
   "pygments_lexer": "ipython3",
   "version": "3.9.12"
  },
  "latex_envs": {
   "LaTeX_envs_menu_present": true,
   "autoclose": false,
   "autocomplete": true,
   "bibliofile": "biblio.bib",
   "cite_by": "apalike",
   "current_citInitial": 1,
   "eqLabelWithNumbers": true,
   "eqNumInitial": 1,
   "hotkeys": {
    "equation": "Ctrl-E",
    "itemize": "Ctrl-I"
   },
   "labels_anchors": false,
   "latex_user_defs": false,
   "report_style_numbering": false,
   "user_envs_cfg": false
  }
 },
 "nbformat": 4,
 "nbformat_minor": 4
}
